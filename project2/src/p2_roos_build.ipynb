{
 "cells": [
  {
   "cell_type": "markdown",
   "metadata": {},
   "source": [
    "This python notebook has exaples of all of the functions we used to get our results with associated tests, if you are looking just for where we reproduce the analytic results look at the results notebook. "
   ]
  },
  {
   "cell_type": "code",
   "execution_count": 1,
   "metadata": {
    "collapsed": false
   },
   "outputs": [],
   "source": [
    "import matplotlib.pyplot as plt \n",
    "%matplotlib inline \n",
    "import numpy as np \n",
    "import math\n",
    "import time \n",
    "from scipy import linalg as la\n",
    "import copy as cp "
   ]
  },
  {
   "cell_type": "code",
   "execution_count": 14,
   "metadata": {
    "collapsed": false
   },
   "outputs": [
    {
     "name": "stdout",
     "output_type": "stream",
     "text": [
      "[  3.01428603+0.j   7.03122801+0.j  11.04564063+0.j  15.05752148+0.j]\n"
     ]
    }
   ],
   "source": [
    "'''\n",
    "This cell sets up the matrix for non-interacting particles.\n",
    "This was used almost exactly later for the matrix building function \n",
    "'''\n",
    "\n",
    "n = 200\n",
    "\n",
    "#(p0,pmax,n)\n",
    "p = np.linspace(0,10, num = n)\n",
    "\n",
    "\n",
    "#uses of stepsize are actually defined in terms of 1/h for simplicity\n",
    "hh = (n/(p[-1] - p[0]))**2\n",
    "hh2 = 2*hh\n",
    "\n",
    "\n",
    "#this cuts off the endpoints \n",
    "A = np.zeros(shape = (n-1,n-1))\n",
    "V = np.zeros(n+1)\n",
    "\n",
    "\n",
    "for i in range(n):\n",
    "    V[i] = p[i]**2\n",
    "\n",
    "for i in range(n-1):\n",
    "        A[i][i] = hh2+V[i+1]\n",
    "        \n",
    "#we evaluate v[i+1] so that we avoid the 0 point \n",
    "#dont overwrite (n-2)\n",
    "for i in range(n-2):\n",
    "        A[i+1][i]= A[i][i+1] = -hh\n",
    "\n",
    "\n",
    "\n",
    "#test that the matrix is set up correctly, expect 3,7,11,...\n",
    "evals = la.eigvals(A)\n",
    "\n",
    "\n",
    "s = np.sort(evals)\n",
    "print(s[0:4])\n",
    "\n"
   ]
  },
  {
   "cell_type": "code",
   "execution_count": 15,
   "metadata": {
    "collapsed": false
   },
   "outputs": [
    {
     "data": {
      "text/plain": [
       "(4.0, 0, 1)"
      ]
     },
     "execution_count": 15,
     "metadata": {},
     "output_type": "execute_result"
    }
   ],
   "source": [
    "'''\n",
    "Here we just set up a function to give us the maximum non-diagonal value \n",
    "and its indices\n",
    "'''\n",
    "\n",
    "\n",
    "def pickmax(a):\n",
    "    \n",
    "    #initialize the maximum value and its indices \n",
    "    #more notes in the following markdown cell\n",
    "    big = -1. \n",
    "    indi = 0\n",
    "    indj = 0\n",
    "    \n",
    "    #iterate over matrix (input a) to find largest value\n",
    "    for i in range(len(a)):\n",
    "        for j in range(i+1,len(a)):\n",
    "            if abs(a[i][j])> big:\n",
    "                big = abs(a[i][j])\n",
    "                indi = i\n",
    "                indj = j\n",
    "    return big, indi, indj\n",
    "\n",
    "#test that we ge the right value and indices, expected 4 with indices 0,1\n",
    "test = np.array([[2.0,-4.0],[-4.0,1.0]])\n",
    "pickmax(test)"
   ]
  },
  {
   "cell_type": "markdown",
   "metadata": {},
   "source": [
    "The above cell has some interesting decisions that help eliminate extra calculations that I would like to mention:\n",
    "- When initializing the max value for the matrix it was set to -1, this made sure that the condition in the for loops would be proc'd at least once without using >= which would have required an extra test per loop. \n",
    "- Because we are working with a symmetric matrix we are able to run the second loop from i+1 to the end of the matrix. This eliminates almost half of the required tests. "
   ]
  },
  {
   "cell_type": "code",
   "execution_count": 25,
   "metadata": {
    "collapsed": false
   },
   "outputs": [
    {
     "data": {
      "text/plain": [
       "(0.88278221853731875, 0.7496781758158659, 0.66180256323574027)"
      ]
     },
     "execution_count": 25,
     "metadata": {},
     "output_type": "execute_result"
    }
   ],
   "source": [
    "'''\n",
    "Here we set up a function to work out the values of our Trig funcitons\n",
    "This is based on the work we did in class\n",
    "'''\n",
    "\n",
    "\n",
    "#set the sin,cos and tan for the max value, \n",
    "#input: a = nxn matrix,(p,q) are the index outputs of the pickmax function\n",
    "def settrig(a,p,q):\n",
    "    \n",
    "    #initialize tan, sin,l and cos respectively  \n",
    "    t = s = c = 0\n",
    "    \n",
    "    #handles the non-singular case\n",
    "    if a[p][q] != 0:\n",
    "        tau = (a[q][q]-a[p][p])/(2*a[p][q])\n",
    "    \n",
    "        if tau < 0:\n",
    "             t = -(-tau+math.sqrt(1+tau**2))**(-1.)\n",
    "        else: \n",
    "            t = (tau+math.sqrt(1+tau**2))**(-1.)\n",
    "        c = (math.sqrt(1+t**2))**(-1.)\n",
    "        s = t*c\n",
    "\n",
    "    else:\n",
    "        c = 1.0\n",
    "        s = 0.0\n",
    "    return t,c,s\n",
    "\n",
    "#test to make sure the trig solver works expect: ~.88278,~.749678, ~.66180\n",
    "test = np.array([[2.0,-4.0],[-4.0,1.0]])\n",
    "settrig(test,0,1)"
   ]
  },
  {
   "cell_type": "code",
   "execution_count": 30,
   "metadata": {
    "collapsed": false
   },
   "outputs": [
    {
     "name": "stdout",
     "output_type": "stream",
     "text": [
      "Expected eigenvalues from linalg:\n",
      "[ 5.53112887+0.j -2.53112887+0.j]\n",
      "Jacobi solved eigen-values:\n",
      "(array([[ 5.53112887,  0.        ],\n",
      "       [ 0.        , -2.53112887]]), 4.0)\n"
     ]
    }
   ],
   "source": [
    "'''\n",
    "This sets up a single iteration of the jacobi method\n",
    "based on our in class discussion\n",
    "We also compare with the linalg solver\n",
    "'''\n",
    "\n",
    "#1 iteration of jacobi method, input: a = nxn matrix \n",
    "def jacobi(a):\n",
    "    \n",
    "    #find inputs to jacobi algo \n",
    "    maxval, p, q = pickmax(a)\n",
    "    t,c,s = settrig(a,p,q)\n",
    "    \n",
    "    #note effective 'call by value' \n",
    "    b = cp.copy(a)\n",
    "    \n",
    "    #jacobi iteration \n",
    "    for i in range(len(a)):\n",
    "        if i!=p or i!=q:\n",
    "            #rotation \n",
    "            b[i][p] = a[i][p]*c-a[i][q]*s\n",
    "            b[i][q] = a[i][q]*c+a[i][p]*s\n",
    "            #force symmetry\n",
    "            b[p][i] = b[i][p]\n",
    "            b[q][i] = b[i][q]\n",
    "    #force realtions for diagonal vals & maxval\n",
    "    b[p][p] = a[p][p]*c**2-2*a[p][q]*c*s+a[q][q]*s**2\n",
    "    b[q][q] = a[p][p]*s**2+2*a[p][q]*c*s+a[q][q]*c**2\n",
    "    b[p][q] = b[q][p] = 0\n",
    "    \n",
    "    return b,maxval\n",
    "#test that our sigle iteration works on a 2x2 matrix \n",
    "#expected out is a 2x2 matrix with diag = ~5.53, -2.5311 \n",
    "#also an extra output '4' for the largest non-diagonal matrix element\n",
    "test = np.array([[2.0,-4.0],[-4.0,1.0]])\n",
    "testvals = la.eigvals(test)\n",
    "\n",
    "print('Expected eigenvalues from linalg:')\n",
    "print(testvals)\n",
    "print('Jacobi solved eigen-values:')\n",
    "print(jacobi(test))\n"
   ]
  },
  {
   "cell_type": "code",
   "execution_count": 29,
   "metadata": {
    "collapsed": false
   },
   "outputs": [
    {
     "name": "stdout",
     "output_type": "stream",
     "text": [
      "Expected eigenvalues from linalg:\n",
      "[ 6.73205081+0.j  2.00000000+0.j  3.26794919+0.j]\n",
      "Jacobi solved eigen-values:\n",
      "[[ 2.          0.          0.        ]\n",
      " [ 0.          6.73205081  0.        ]\n",
      " [ 0.          0.          3.26794919]]\n"
     ]
    }
   ],
   "source": [
    "\n",
    "#Full solver, input: nxn matrix, value of tolerance (suggested 10**-5) \n",
    "def esolver(matrix, tolerance):\n",
    "    \n",
    "    #initailize maxval & gaurentee 1  iteration \n",
    "    maxval = tolerance+1\n",
    "    \n",
    "    #iterate until tolerable \n",
    "    while tolerance <= maxval:\n",
    "        matrix, maxval = jacobi(matrix )\n",
    "        \n",
    "    return matrix\n",
    "\n",
    "\n",
    "#test that we get the right e-vals\n",
    "test3 = np.array([[4.,2.,1.],[2.,4.,1.],[1.,1.,4.]])\n",
    "test3vals = la.eigvals(test3)\n",
    "\n",
    "\n",
    "print('Expected eigenvalues from linalg:')\n",
    "print(test3vals)\n",
    "print('Jacobi solved eigen-values:')\n",
    "print(esolver(test3,.001))"
   ]
  },
  {
   "cell_type": "markdown",
   "metadata": {},
   "source": [
    "Now that we have a functioning eigenvalue solver\n",
    "we just need to put together the matrix with the coulomb potential \n",
    "added and compare it to the analytic results. "
   ]
  },
  {
   "cell_type": "code",
   "execution_count": 12,
   "metadata": {
    "collapsed": true
   },
   "outputs": [],
   "source": [
    "'''\n",
    "functionalized version of the matrix intailization from earlier \n",
    "with the electron interaction \n",
    "added flexibility by making n (the number of matrix elements),\n",
    "rho-max ,and omega variables \n",
    "'''\n",
    "\n",
    "def makemat(pmax,omega,n):\n",
    "    #lets us choose rho-max \n",
    "    p = np.linspace(0,pmax, num = n)\n",
    "    \n",
    "    #these constants are defined in terms of 1/h for simplicity \n",
    "    hh = (n/(p[-1] - p[0]))**2\n",
    "    hh2 = 2*hh\n",
    "    \n",
    "    #Initialize the matrix we will operate on and the potential\n",
    "    A = np.zeros(shape = (n-1,n-1))\n",
    "    V = np.zeros(n+1)\n",
    "\n",
    "    #included omega factor and the interaction to the potential,\n",
    "    #this lets us compare to different analytic results\n",
    "    for i in range(n):\n",
    "        V[i] = (omega*p[i])**2+1/p[i]\n",
    "    \n",
    "    #Fill the matrix\n",
    "    for i in range(n-1):\n",
    "            A[i][i] = hh2+V[i+1]\n",
    "    for i in range(n-2):\n",
    "            A[i+1][i]= A[i][i+1] = -hh\n",
    "            \n",
    "    return A\n",
    "\n",
    "\n",
    "#output of the solver can be sloppy, lets clean it up.  \n",
    "def clean(a):\n",
    "    evals  = []\n",
    "    #pick the diagonals\n",
    "    for i in range(len(a)):\n",
    "        evals.append(a[i][i])\n",
    "        \n",
    "    #sorted for easy reading \n",
    "    #and /2 to account for difference from analytic values\n",
    "    sorted_evals  = np.sort(evals)/2\n",
    "    \n",
    "    return sorted_evals"
   ]
  },
  {
   "cell_type": "code",
   "execution_count": 31,
   "metadata": {
    "collapsed": false,
    "scrolled": true
   },
   "outputs": [
    {
     "name": "stdout",
     "output_type": "stream",
     "text": [
      "[  0.62181583   1.06526775   1.47963271   1.85087367   2.14990337\n",
      "   2.40874635   2.77068912   3.22976528   3.76667366   4.37568805\n",
      "   5.05435585   5.80137175   6.61596051   7.49762833   8.44604449\n",
      "   9.4609788   10.54226605  11.68978461  12.90344296  14.18317098\n",
      "  15.52891409  16.94062916  18.41828171  19.96184385  21.57129279\n",
      "  23.24660973  24.98777904  26.79478762  28.66762441  30.60628002\n",
      "  32.61074643  34.68101672  36.81708493  39.0189459   41.28659509\n",
      "  43.6200286   46.01925596  48.48604367  51.10945762]\n"
     ]
    },
    {
     "name": "stderr",
     "output_type": "stream",
     "text": [
      "/home/mroosa/anaconda3/lib/python3.5/site-packages/ipykernel/__main__.py:15: RuntimeWarning: divide by zero encountered in double_scalars\n"
     ]
    }
   ],
   "source": [
    "#put it all together to compare to the analytic result \n",
    "A = makemat(40,.25,40)\n",
    "eigenvals = esolver(A,.00001)\n",
    "cleaned = clean(eigenvals)\n",
    "print(cleaned) "
   ]
  },
  {
   "cell_type": "markdown",
   "metadata": {},
   "source": [
    "These are consistent with the analytic findings \n",
    "> que the celebrations \n",
    "> \\\\(^0^)/\n",
    "\n",
    "\n",
    "For fun lets compare the time it takes jacobi to solve the eigenvalue problem to linalg"
   ]
  },
  {
   "cell_type": "code",
   "execution_count": 36,
   "metadata": {
    "collapsed": false
   },
   "outputs": [
    {
     "name": "stdout",
     "output_type": "stream",
     "text": [
      "Jacobi: 0.20473100000000066\n",
      "Linalg 0.0008759999999998769\n"
     ]
    }
   ],
   "source": [
    "startJ = time.clock()\n",
    "esolver(A,.00001)\n",
    "dTJ = time.clock()-startJ\n",
    "\n",
    "startL = time.clock()\n",
    "la.eigvals(A)\n",
    "dTL = time.clock()-startL\n",
    "\n",
    "print('Jacobi:',dTJ)\n",
    "print('Linalg',dTL)"
   ]
  },
  {
   "cell_type": "markdown",
   "metadata": {},
   "source": [
    "In the tone of our fearless leader the president:\n",
    "> \"Jacobi can't even work at 1/100'th the speed of linalg. \n",
    "> SAD!!! #Fake_eigenvalues\""
   ]
  },
  {
   "cell_type": "code",
   "execution_count": null,
   "metadata": {
    "collapsed": true
   },
   "outputs": [],
   "source": []
  }
 ],
 "metadata": {
  "anaconda-cloud": {},
  "kernelspec": {
   "display_name": "Python [conda root]",
   "language": "python",
   "name": "conda-root-py"
  },
  "language_info": {
   "codemirror_mode": {
    "name": "ipython",
    "version": 3
   },
   "file_extension": ".py",
   "mimetype": "text/x-python",
   "name": "python",
   "nbconvert_exporter": "python",
   "pygments_lexer": "ipython3",
   "version": "3.5.2"
  }
 },
 "nbformat": 4,
 "nbformat_minor": 1
}
