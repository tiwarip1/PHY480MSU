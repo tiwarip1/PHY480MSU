{
 "cells": [
  {
   "cell_type": "code",
   "execution_count": 1,
   "metadata": {
    "collapsed": true
   },
   "outputs": [],
   "source": [
    "import matplotlib.pyplot as plt \n",
    "%matplotlib inline \n",
    "import numpy as np \n",
    "import math\n",
    "from scipy import linalg as la\n",
    "import copy as cp "
   ]
  },
  {
   "cell_type": "markdown",
   "metadata": {},
   "source": [
    "This cell is all of the set up funcitons used to reproduce the analytical solution."
   ]
  },
  {
   "cell_type": "code",
   "execution_count": 2,
   "metadata": {
    "collapsed": false
   },
   "outputs": [],
   "source": [
    "def pickmax(a):\n",
    "    \n",
    "    #initialize the maximum value and its indices, big=-1 to gaurentee the > is met at least once\n",
    "    big = -1. \n",
    "    indi = 0\n",
    "    indj = 0\n",
    "    \n",
    "    #iterate over matrix (input a) to find largest value, i+1 in j to get i != j w/o extra if statement\n",
    "\n",
    "    for i in range(len(a)):\n",
    "        for j in range(i+1,len(a)):\n",
    "            if abs(a[i][j])> big:\n",
    "                big = abs(a[i][j])\n",
    "                indi = i\n",
    "                indj = j\n",
    "    return big, indi, indj\n",
    "\n",
    "def settrig(a,p,q):\n",
    "    \n",
    "    #initialize tan, sin,l and cos respectively  \n",
    "    t = s = c = 0\n",
    "    \n",
    "    #handles the non-singular case\n",
    "    if a[p][q] != 0:\n",
    "        tau = (a[q][q]-a[p][p])/(2*a[p][q])\n",
    "    \n",
    "        if tau < 0:\n",
    "             t = -(-tau+math.sqrt(1+tau**2))**(-1.)\n",
    "        else: \n",
    "            t = (tau+math.sqrt(1+tau**2))**(-1.)\n",
    "        c = (math.sqrt(1+t**2))**(-1.)\n",
    "        s = t*c\n",
    "\n",
    "    else:\n",
    "        c = 1.0\n",
    "        s = 0.0\n",
    "    return t,c,s\n",
    "\n",
    "def jacobi(a):\n",
    "    \n",
    "    #find inputs to jacobi algo \n",
    "    maxval, p, q = pickmax(a)\n",
    "    t,c,s = settrig(a,p,q)\n",
    "    \n",
    "    #note effective 'call by value' \n",
    "    b = cp.copy(a)\n",
    "    \n",
    "    #jacobi iteration \n",
    "    for i in range(len(a)):\n",
    "        if i!=p or i!=q:\n",
    "            #rotation \n",
    "            b[i][p] = a[i][p]*c-a[i][q]*s\n",
    "            b[i][q] = a[i][q]*c+a[i][p]*s\n",
    "            #force symmetry\n",
    "            b[p][i] = b[i][p]\n",
    "            b[q][i] = b[i][q]\n",
    "    #force realtions for diagonal vals & maxval\n",
    "    b[p][p] = a[p][p]*c**2-2*a[p][q]*c*s+a[q][q]*s**2\n",
    "    b[q][q] = a[p][p]*s**2+2*a[p][q]*c*s+a[q][q]*c**2\n",
    "    b[p][q] = b[q][p] = 0\n",
    "    \n",
    "    return b,maxval\n",
    "\n",
    "def esolver(matrix, tolerance):\n",
    "    \n",
    "    #initailize & gaurentee 1  iteration \n",
    "    maxval = tolerance+1\n",
    "    \n",
    "    #iterate until tolerable \n",
    "    while tolerance<=maxval:\n",
    "        matrix, maxval =jacobi(matrix )\n",
    "        \n",
    "    return matrix\n",
    "\n",
    "\n",
    "def makemat(pmax,omega,n):\n",
    "    p = np.linspace(0,pmax, num = n)\n",
    "\n",
    "    hh = (n/(p[-1] - p[0]))**2\n",
    "    hh2 = 2*hh\n",
    "    #this cuts off the endpoints \n",
    "    A = np.zeros(shape = (n-1,n-1))\n",
    "    V = np.zeros(n+1)\n",
    "\n",
    "\n",
    "    for i in range(n):\n",
    "        V[i] = omega**2*p[i]**2+1/p[i]\n",
    "\n",
    "    for i in range(n-1):\n",
    "            A[i][i] = hh2+V[i+1]\n",
    "    #we evaluate v[i+1] so that we avoid the 0 point \n",
    "    #dont overwrite (n-2)\n",
    "    for i in range(n-2):\n",
    "            A[i+1][i]= A[i][i+1] = -hh\n",
    "    return A\n",
    "\n",
    "\n",
    "#output of the solver can be sloppy, lets clean it up.  \n",
    "def clean(a):\n",
    "    evals  = []\n",
    "    #pick the diagonals\n",
    "    for i in range(len(a)):\n",
    "        evals.append(a[i][i])\n",
    "        \n",
    "    #sorted for easy reading \n",
    "    #and /2 to match expected values \n",
    "    sorted_evals  = np.sort(evals)/2\n",
    "    return sorted_evals"
   ]
  },
  {
   "cell_type": "markdown",
   "metadata": {},
   "source": [
    "The below cells show the construction and manipulation of the matrix to get the final answer"
   ]
  },
  {
   "cell_type": "code",
   "execution_count": 3,
   "metadata": {
    "collapsed": false
   },
   "outputs": [
    {
     "name": "stdout",
     "output_type": "stream",
     "text": [
      "[  0.62181583   1.06526775   1.47963271   1.85087367   2.14990337\n",
      "   2.40874635   2.77068912   3.22976528   3.76667366   4.37568805\n",
      "   5.05435585   5.80137175   6.61596051   7.49762833   8.44604449\n",
      "   9.4609788   10.54226605  11.68978461  12.90344296  14.18317098\n",
      "  15.52891409  16.94062916  18.41828171  19.96184385  21.57129279\n",
      "  23.24660973  24.98777904  26.79478762  28.66762441  30.60628002\n",
      "  32.61074643  34.68101672  36.81708493  39.0189459   41.28659509\n",
      "  43.6200286   46.01925596  48.48604367  51.10945762]\n"
     ]
    },
    {
     "name": "stderr",
     "output_type": "stream",
     "text": [
      "/home/mroosa/anaconda3/lib/python3.5/site-packages/ipykernel/__main__.py:87: RuntimeWarning: divide by zero encountered in double_scalars\n"
     ]
    }
   ],
   "source": [
    "print(clean(esolver(makemat(40,.25,40),.00001)))"
   ]
  },
  {
   "cell_type": "markdown",
   "metadata": {},
   "source": [
    "- This matches expectation \n",
    "> que celebration\n",
    "- For further comments and tests of each of the functions see the build notebook "
   ]
  }
 ],
 "metadata": {
  "anaconda-cloud": {},
  "kernelspec": {
   "display_name": "Python [default]",
   "language": "python",
   "name": "python3"
  },
  "language_info": {
   "codemirror_mode": {
    "name": "ipython",
    "version": 3
   },
   "file_extension": ".py",
   "mimetype": "text/x-python",
   "name": "python",
   "nbconvert_exporter": "python",
   "pygments_lexer": "ipython3",
   "version": "3.5.2"
  }
 },
 "nbformat": 4,
 "nbformat_minor": 1
}
