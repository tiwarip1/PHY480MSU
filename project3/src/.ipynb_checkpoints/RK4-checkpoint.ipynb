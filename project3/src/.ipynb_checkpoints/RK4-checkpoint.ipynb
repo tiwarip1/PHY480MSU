{
 "cells": [
  {
   "cell_type": "code",
   "execution_count": null,
   "metadata": {
    "collapsed": true
   },
   "outputs": [],
   "source": [
    "import numpy as np\n",
    "\n",
    "def rk4_2step( f, x0, v0, t, h):\n",
    "    '''\n",
    "    This evaluates a velovity and position update using RK4;\n",
    "    f is expeced to be the function name for the acceleration function\n",
    "        with (x-input, time input)\n",
    "    x0 & v0 are the initial values for x and velocity\n",
    "    t is expected to be initial time \n",
    "    h is expected to be the step size\n",
    "    the output is x(i+1), v(i+1)\n",
    "\n",
    "    '''\n",
    "    \n",
    "    k1v = h * f( x0, t )\n",
    "    k1x = h * v0\n",
    "    k2v = h * f( x0 + 0.5 * k1v, t + 0.5 * h )\n",
    "    k2x = h * (v0 + k1v/2 )\n",
    "    k3v = h * f( x0 + 0.5 * k2v, t + 0.5 * h )\n",
    "    k3x = h * (v0 + k2v/2 )\n",
    "    k4v = h * f( x0 + k3v, t + h  )\n",
    "    k4x = h * (v0 + k3v/2 )\n",
    "    \n",
    "    x = x0 + (k1x + 2*(k2x+k3x) + k4x)/6\n",
    "    v = v0 + (k1v + 2*(k2v+k3v) + k4v)/6\n",
    "    \n",
    "    return x ,v \n",
    "\n",
    "def rk4( f, x0, v0, t ):\n",
    "    '''\n",
    "    f is the acceleration equation \n",
    "    x0,v0 are the initial conditions \n",
    "    t is an array with evenly spaced time incriments \n",
    "    '''\n",
    "    n = len( t )\n",
    "    v = np.array( [ v0 ] * n )\n",
    "    x = np.array( [ x0 ] * n )\n",
    "    #assume non-adaptive, pulled out of the loop for efficiency \n",
    "    h = t[1] - t[0]\n",
    "    for i in xrange( n - 1 ):\n",
    "        x[i+1], v[i+1] = rk4_2step(f,x[i],v[i],t[i],h)\n",
    "    return x, v"
   ]
  }
 ],
 "metadata": {
  "kernelspec": {
   "display_name": "Python 2",
   "language": "python",
   "name": "python2"
  },
  "language_info": {
   "codemirror_mode": {
    "name": "ipython",
    "version": 2
   },
   "file_extension": ".py",
   "mimetype": "text/x-python",
   "name": "python",
   "nbconvert_exporter": "python",
   "pygments_lexer": "ipython2",
   "version": "2.7.12"
  }
 },
 "nbformat": 4,
 "nbformat_minor": 2
}
