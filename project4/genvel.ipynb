{
 "cells": [
  {
   "cell_type": "code",
   "execution_count": 28,
   "metadata": {
    "collapsed": false
   },
   "outputs": [],
   "source": [
    "import random\n",
    "import math as m \n",
    "import numpy as np\n",
    "import matplotlib.pyplot as plt \n",
    "%matplotlib inline"
   ]
  },
  {
   "cell_type": "code",
   "execution_count": 29,
   "metadata": {
    "collapsed": false
   },
   "outputs": [],
   "source": [
    "def genv(T,scale = 1):\n",
    "    v = scale*np.random.normal(0,1)*(T)**.5\n",
    "    return v\n",
    "def gen3v(T,scale=1):\n",
    "    return [genv(T,scale),genv(T,scale),genv(T,scale)]\n",
    "def mag(r1):\n",
    "    tot = 0\n",
    "    for i in range(len(r1)):\n",
    "        tot += r1[i]*r1[i]\n",
    "    return tot"
   ]
  },
  {
   "cell_type": "code",
   "execution_count": 30,
   "metadata": {
    "collapsed": false
   },
   "outputs": [
    {
     "data": {
      "text/plain": [
       "16"
      ]
     },
     "execution_count": 30,
     "metadata": {},
     "output_type": "execute_result"
    }
   ],
   "source": [
    "a = [1,2,3]\n",
    "b = [4,3,2]\n",
    "dot(a,b)"
   ]
  },
  {
   "cell_type": "code",
   "execution_count": 44,
   "metadata": {
    "collapsed": false
   },
   "outputs": [
    {
     "data": {
      "text/plain": [
       "(array([  4.10000000e+03,   3.13100000e+03,   1.56200000e+03,\n",
       "          6.60000000e+02,   3.26000000e+02,   1.38000000e+02,\n",
       "          5.20000000e+01,   2.20000000e+01,   5.00000000e+00,\n",
       "          4.00000000e+00]),\n",
       " array([  2.56794478e-03,   9.82633930e+00,   1.96501107e+01,\n",
       "          2.94738820e+01,   3.92976534e+01,   4.91214247e+01,\n",
       "          5.89451961e+01,   6.87689674e+01,   7.85927388e+01,\n",
       "          8.84165101e+01,   9.82402815e+01]),\n",
       " <a list of 10 Patch objects>)"
      ]
     },
     "execution_count": 44,
     "metadata": {},
     "output_type": "execute_result"
    },
    {
     "data": {
      "image/png": "[encoded data removed]",
      "text/plain": [
       "<matplotlib.figure.Figure at 0x7f6b193d7b50>"
      ]
     },
     "metadata": {},
     "output_type": "display_data"
    }
   ],
   "source": [
    "N = 10000\n",
    "vs1 = []\n",
    "vs2 = []\n",
    "for i in range(N):\n",
    "    a = gen3v(5.0)\n",
    "    b = gen3v(20.0)\n",
    "    a = mag(a)\n",
    "    b = mag(b)\n",
    "\n",
    "    vs1.append(a)\n",
    "    vs2.append(b)    \n",
    "    \n",
    "plt.hist(vs2)\n",
    "plt.hist(vs1)\n"
   ]
  },
  {
   "cell_type": "markdown",
   "metadata": {},
   "source": [
    "we don't want any drift velocity so the mean should be 0 (which it is). The velocity scales the way it sould aswell. "
   ]
  }
 ],
 "metadata": {
  "kernelspec": {
   "display_name": "Python 2",
   "language": "python",
   "name": "python2"
  },
  "language_info": {
   "codemirror_mode": {
    "name": "ipython",
    "version": 2
   },
   "file_extension": ".py",
   "mimetype": "text/x-python",
   "name": "python",
   "nbconvert_exporter": "python",
   "pygments_lexer": "ipython2",
   "version": "2.7.12"
  }
 },
 "nbformat": 4,
 "nbformat_minor": 2
}
